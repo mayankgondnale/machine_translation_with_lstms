{
 "cells": [
  {
   "cell_type": "code",
   "execution_count": 1,
   "metadata": {},
   "outputs": [
    {
     "name": "stderr",
     "output_type": "stream",
     "text": [
      "C:\\Users\\mgond\\Anaconda2\\envs\\ipykernel_py3\\lib\\site-packages\\h5py\\__init__.py:36: FutureWarning: Conversion of the second argument of issubdtype from `float` to `np.floating` is deprecated. In future, it will be treated as `np.float64 == np.dtype(float).type`.\n",
      "  from ._conv import register_converters as _register_converters\n",
      "Using TensorFlow backend.\n"
     ]
    }
   ],
   "source": [
    "# Import all dependencies\n",
    "\n",
    "from __future__ import print_function\n",
    "from keras.models import Model\n",
    "from keras.layers import Input, LSTM, Dense\n",
    "from keras.callbacks import ModelCheckpoint\n",
    "from keras import optimizers\n",
    "import numpy as np"
   ]
  },
  {
   "cell_type": "code",
   "execution_count": 2,
   "metadata": {},
   "outputs": [],
   "source": [
    "# Set Parameters\n",
    "\n",
    "batch_size = 64  # Batch size for training.\n",
    "epochs = 25  # Number of epochs to train for.\n",
    "latent_dim = 256  # Latent dimensionality of the encoding space.\n",
    "num_samples = 10000  # Number of samples to train on.\n",
    "# Path to the data txt file on disk.\n",
    "data_path = 'deu_new.txt'"
   ]
  },
  {
   "cell_type": "code",
   "execution_count": 3,
   "metadata": {},
   "outputs": [],
   "source": [
    "# Vectorize the data\n",
    "\n",
    "input_texts = []\n",
    "target_texts = []\n",
    "input_characters = set()\n",
    "target_characters = set()\n",
    "with open(data_path, 'r', encoding='utf-8') as f:\n",
    "    lines = f.read().split('\\n')\n",
    "for line in lines[: min(num_samples, len(lines) - 1)]:\n",
    "    input_text, target_text = line.split('\\t')\n",
    "    # We use \"tab\" as the \"start sequence\" character\n",
    "    # for the targets, and \"\\n\" as \"end sequence\" character.\n",
    "    target_text = '\\t' + target_text + '\\n'\n",
    "    input_texts.append(input_text)\n",
    "    target_texts.append(target_text)\n",
    "    for char in input_text:\n",
    "        if char not in input_characters:\n",
    "            input_characters.add(char)\n",
    "    for char in target_text:\n",
    "        if char not in target_characters:\n",
    "            target_characters.add(char)"
   ]
  },
  {
   "cell_type": "code",
   "execution_count": 4,
   "metadata": {},
   "outputs": [
    {
     "name": "stdout",
     "output_type": "stream",
     "text": [
      "Number of samples: 10000\n",
      "Number of unique input tokens: 71\n",
      "Number of unique output tokens: 88\n",
      "Max sequence length for inputs: 16\n",
      "Max sequence length for outputs: 53\n"
     ]
    }
   ],
   "source": [
    "# Find out total samples, unique tokens and max sequence length for both input and target\n",
    "\n",
    "num_encoder_tokens = len(input_characters)\n",
    "num_decoder_tokens = len(target_characters)\n",
    "max_encoder_seq_length = max([len(txt) for txt in input_texts])\n",
    "max_decoder_seq_length = max([len(txt) for txt in target_texts])\n",
    "\n",
    "print('Number of samples:', len(input_texts))\n",
    "print('Number of unique input tokens:', num_encoder_tokens)\n",
    "print('Number of unique output tokens:', num_decoder_tokens)\n",
    "print('Max sequence length for inputs:', max_encoder_seq_length)\n",
    "print('Max sequence length for outputs:', max_decoder_seq_length)"
   ]
  },
  {
   "cell_type": "code",
   "execution_count": 5,
   "metadata": {},
   "outputs": [],
   "source": [
    "# Create dictionary for input and target characters\n",
    "# Create zero arrays of shape (#samples, #max length of input sample word, #unique characters in input)\n",
    "\n",
    "input_token_index = dict(\n",
    "    [(char, i) for i, char in enumerate(input_characters)])\n",
    "target_token_index = dict(\n",
    "    [(char, i) for i, char in enumerate(target_characters)])\n",
    "\n",
    "encoder_input_data = np.zeros(\n",
    "    (len(input_texts), max_encoder_seq_length, num_encoder_tokens),\n",
    "    dtype='float32')\n",
    "decoder_input_data = np.zeros(\n",
    "    (len(input_texts), max_decoder_seq_length, num_decoder_tokens),\n",
    "    dtype='float32')\n",
    "decoder_target_data = np.zeros(\n",
    "    (len(input_texts), max_decoder_seq_length, num_decoder_tokens),\n",
    "    dtype='float32')"
   ]
  },
  {
   "cell_type": "code",
   "execution_count": 6,
   "metadata": {},
   "outputs": [],
   "source": [
    "# One-hot encoding for all the arrays\n",
    "\n",
    "for i, (input_text, target_text) in enumerate(zip(input_texts, target_texts)):\n",
    "    for t, char in enumerate(input_text):\n",
    "        encoder_input_data[i, t, input_token_index[char]] = 1.\n",
    "    for t, char in enumerate(target_text):\n",
    "        # decoder_target_data is ahead of decoder_input_data by one timestep\n",
    "        decoder_input_data[i, t, target_token_index[char]] = 1.\n",
    "        if t > 0:\n",
    "            # decoder_target_data will be ahead by one timestep\n",
    "            # and will not include the start character.\n",
    "            decoder_target_data[i, t - 1, target_token_index[char]] = 1."
   ]
  },
  {
   "cell_type": "markdown",
   "metadata": {},
   "source": [
    "# Create Encoder-Decoder Framework"
   ]
  },
  {
   "cell_type": "code",
   "execution_count": 7,
   "metadata": {},
   "outputs": [],
   "source": [
    "# Define an input sequence and process it.\n",
    "# Create an encoder LSTM layer\n",
    "\n",
    "encoder_inputs = Input(shape=(None, num_encoder_tokens))\n",
    "encoder = LSTM(latent_dim, return_state=True)\n",
    "encoder_outputs, state_h, state_c = encoder(encoder_inputs)\n",
    "\n",
    "# We discard `encoder_outputs` and only keep the states.\n",
    "encoder_states = [state_h, state_c]"
   ]
  },
  {
   "cell_type": "code",
   "execution_count": 8,
   "metadata": {},
   "outputs": [],
   "source": [
    "# Set up the decoder, using `encoder_states` as initial state.\n",
    "\n",
    "decoder_inputs = Input(shape=(None, num_decoder_tokens))\n",
    "\n",
    "# We set up our decoder to return full output sequences and return states to be used in inference\n",
    "\n",
    "decoder_lstm = LSTM(latent_dim, return_sequences=True, return_state=True)\n",
    "decoder_outputs, _, _ = decoder_lstm(decoder_inputs, initial_state=encoder_states)\n",
    "decoder_dense = Dense(num_decoder_tokens, activation='softmax')\n",
    "decoder_outputs = decoder_dense(decoder_outputs)"
   ]
  },
  {
   "cell_type": "markdown",
   "metadata": {},
   "source": [
    "# Define model, checkpoints and train the model"
   ]
  },
  {
   "cell_type": "code",
   "execution_count": 9,
   "metadata": {},
   "outputs": [
    {
     "name": "stdout",
     "output_type": "stream",
     "text": [
      "__________________________________________________________________________________________________\n",
      "Layer (type)                    Output Shape         Param #     Connected to                     \n",
      "==================================================================================================\n",
      "input_1 (InputLayer)            (None, None, 71)     0                                            \n",
      "__________________________________________________________________________________________________\n",
      "input_2 (InputLayer)            (None, None, 88)     0                                            \n",
      "__________________________________________________________________________________________________\n",
      "lstm_1 (LSTM)                   [(None, 256), (None, 335872      input_1[0][0]                    \n",
      "__________________________________________________________________________________________________\n",
      "lstm_2 (LSTM)                   [(None, None, 256),  353280      input_2[0][0]                    \n",
      "                                                                 lstm_1[0][1]                     \n",
      "                                                                 lstm_1[0][2]                     \n",
      "__________________________________________________________________________________________________\n",
      "dense_1 (Dense)                 (None, None, 88)     22616       lstm_2[0][0]                     \n",
      "==================================================================================================\n",
      "Total params: 711,768\n",
      "Trainable params: 711,768\n",
      "Non-trainable params: 0\n",
      "__________________________________________________________________________________________________\n"
     ]
    }
   ],
   "source": [
    "# Define the model that will turn `encoder_input_data` & `decoder_input_data` into `decoder_target_data`\n",
    "\n",
    "model = Model([encoder_inputs, decoder_inputs], decoder_outputs)\n",
    "\n",
    "#optimizer = optimizers.Adam(lr=0.001, beta_1=0.9, beta_2=0.999, epsilon=None, decay=0.0, amsgrad=False)\n",
    "#optimizer = optimizers.SGD(lr=0.01, momentum=0.0, decay=0.0, nesterov=False)\n",
    "#optimizer = optimizers.Adagrad(lr=0.01, epsilon=None, decay=0.0)\n",
    "#optimizer = optimizers.RMSprop(lr=0.001, rho=0.9, epsilon=None, decay=0.0)\n",
    "#optimizer = optimizers.Nadam(lr=0.002, beta_1=0.9, beta_2=0.999, epsilon=None, schedule_decay=0.004)\n",
    "\n",
    "model.compile(loss='categorical_crossentropy', optimizer='rmsprop', metrics=['accuracy'])\n",
    "model.summary()"
   ]
  },
  {
   "cell_type": "code",
   "execution_count": 10,
   "metadata": {},
   "outputs": [],
   "source": [
    "# Define the checkpoints for storing weights at different epochs and loss values\n",
    "\n",
    "filepath=\"weights-improvement-{epoch:02d}-{loss:.4f}.hdf5\"\n",
    "checkpoint = ModelCheckpoint(filepath, monitor='loss', verbose=1, save_best_only=True, mode='min')\n",
    "callbacks_list = [checkpoint]\n"
   ]
  },
  {
   "cell_type": "code",
   "execution_count": 13,
   "metadata": {},
   "outputs": [
    {
     "name": "stdout",
     "output_type": "stream",
     "text": [
      "Train on 8000 samples, validate on 2000 samples\n",
      "Epoch 1/25\n",
      "8000/8000 [==============================] - 64s 8ms/step - loss: 0.8069 - acc: 0.2477 - val_loss: 0.8647 - val_acc: 0.1882\n",
      "\n",
      "Epoch 00001: loss improved from inf to 0.80692, saving model to weights-improvement-01-0.8069.hdf5\n",
      "Epoch 2/25\n"
     ]
    },
    {
     "name": "stderr",
     "output_type": "stream",
     "text": [
      "C:\\Users\\mgond\\Anaconda2\\envs\\ipykernel_py3\\lib\\site-packages\\keras\\engine\\topology.py:2364: UserWarning: Layer lstm_2 was passed non-serializable keyword arguments: {'initial_state': [<tf.Tensor 'lstm_1/while/Exit_2:0' shape=(?, 256) dtype=float32>, <tf.Tensor 'lstm_1/while/Exit_3:0' shape=(?, 256) dtype=float32>]}. They will not be included in the serialized model (and thus will be missing at deserialization time).\n",
      "  str(node.arguments) + '. They will not be included '\n"
     ]
    },
    {
     "name": "stdout",
     "output_type": "stream",
     "text": [
      "8000/8000 [==============================] - 66s 8ms/step - loss: 0.6774 - acc: 0.1715 - val_loss: 0.7810 - val_acc: 0.1967\n",
      "\n",
      "Epoch 00002: loss improved from 0.80692 to 0.67741, saving model to weights-improvement-02-0.6774.hdf5\n",
      "Epoch 3/25\n",
      "8000/8000 [==============================] - 64s 8ms/step - loss: 0.6154 - acc: 0.1847 - val_loss: 0.7172 - val_acc: 0.2142\n",
      "\n",
      "Epoch 00003: loss improved from 0.67741 to 0.61542, saving model to weights-improvement-03-0.6154.hdf5\n",
      "Epoch 4/25\n",
      "8000/8000 [==============================] - 68s 8ms/step - loss: 0.5664 - acc: 0.2003 - val_loss: 0.6839 - val_acc: 0.2237\n",
      "\n",
      "Epoch 00004: loss improved from 0.61542 to 0.56636, saving model to weights-improvement-04-0.5664.hdf5\n",
      "Epoch 5/25\n",
      "8000/8000 [==============================] - 65s 8ms/step - loss: 0.5315 - acc: 0.2107 - val_loss: 0.6431 - val_acc: 0.2333\n",
      "\n",
      "Epoch 00005: loss improved from 0.56636 to 0.53151, saving model to weights-improvement-05-0.5315.hdf5\n",
      "Epoch 6/25\n",
      "8000/8000 [==============================] - 64s 8ms/step - loss: 0.5036 - acc: 0.2206 - val_loss: 0.6212 - val_acc: 0.2427\n",
      "\n",
      "Epoch 00006: loss improved from 0.53151 to 0.50364, saving model to weights-improvement-06-0.5036.hdf5\n",
      "Epoch 7/25\n",
      "8000/8000 [==============================] - 62s 8ms/step - loss: 0.4808 - acc: 0.2272 - val_loss: 0.6079 - val_acc: 0.2491\n",
      "\n",
      "Epoch 00007: loss improved from 0.50364 to 0.48076, saving model to weights-improvement-07-0.4808.hdf5\n",
      "Epoch 8/25\n",
      "8000/8000 [==============================] - 68s 9ms/step - loss: 0.4611 - acc: 0.2337 - val_loss: 0.5936 - val_acc: 0.2556\n",
      "\n",
      "Epoch 00008: loss improved from 0.48076 to 0.46111, saving model to weights-improvement-08-0.4611.hdf5\n",
      "Epoch 9/25\n",
      "8000/8000 [==============================] - 69s 9ms/step - loss: 0.4434 - acc: 0.2406 - val_loss: 0.5848 - val_acc: 0.2604\n",
      "\n",
      "Epoch 00009: loss improved from 0.46111 to 0.44340, saving model to weights-improvement-09-0.4434.hdf5\n",
      "Epoch 10/25\n",
      "8000/8000 [==============================] - 63s 8ms/step - loss: 0.4276 - acc: 0.2431 - val_loss: 0.5778 - val_acc: 0.2582\n",
      "\n",
      "Epoch 00010: loss improved from 0.44340 to 0.42763, saving model to weights-improvement-10-0.4276.hdf5\n",
      "Epoch 11/25\n",
      "8000/8000 [==============================] - 66s 8ms/step - loss: 0.4134 - acc: 0.2491 - val_loss: 0.5530 - val_acc: 0.2699\n",
      "\n",
      "Epoch 00011: loss improved from 0.42763 to 0.41344, saving model to weights-improvement-11-0.4134.hdf5\n",
      "Epoch 12/25\n",
      "8000/8000 [==============================] - 64s 8ms/step - loss: 0.3997 - acc: 0.2534 - val_loss: 0.5566 - val_acc: 0.2675\n",
      "\n",
      "Epoch 00012: loss improved from 0.41344 to 0.39971, saving model to weights-improvement-12-0.3997.hdf5\n",
      "Epoch 13/25\n",
      "8000/8000 [==============================] - 67s 8ms/step - loss: 0.3870 - acc: 0.2564 - val_loss: 0.5438 - val_acc: 0.2714\n",
      "\n",
      "Epoch 00013: loss improved from 0.39971 to 0.38698, saving model to weights-improvement-13-0.3870.hdf5\n",
      "Epoch 14/25\n",
      "8000/8000 [==============================] - 63s 8ms/step - loss: 0.3751 - acc: 0.2612 - val_loss: 0.5365 - val_acc: 0.2724\n",
      "\n",
      "Epoch 00014: loss improved from 0.38698 to 0.37507, saving model to weights-improvement-14-0.3751.hdf5\n",
      "Epoch 15/25\n",
      "8000/8000 [==============================] - 64s 8ms/step - loss: 0.3638 - acc: 0.2640 - val_loss: 0.5308 - val_acc: 0.2749\n",
      "\n",
      "Epoch 00015: loss improved from 0.37507 to 0.36381, saving model to weights-improvement-15-0.3638.hdf5\n",
      "Epoch 16/25\n",
      "8000/8000 [==============================] - 62s 8ms/step - loss: 0.3528 - acc: 0.2683 - val_loss: 0.5273 - val_acc: 0.2762\n",
      "\n",
      "Epoch 00016: loss improved from 0.36381 to 0.35276, saving model to weights-improvement-16-0.3528.hdf5\n",
      "Epoch 17/25\n",
      "8000/8000 [==============================] - 66s 8ms/step - loss: 0.3426 - acc: 0.2716 - val_loss: 0.5252 - val_acc: 0.2778\n",
      "\n",
      "Epoch 00017: loss improved from 0.35276 to 0.34264, saving model to weights-improvement-17-0.3426.hdf5\n",
      "Epoch 18/25\n",
      "8000/8000 [==============================] - 69s 9ms/step - loss: 0.3326 - acc: 0.2743 - val_loss: 0.5236 - val_acc: 0.2782\n",
      "\n",
      "Epoch 00018: loss improved from 0.34264 to 0.33255, saving model to weights-improvement-18-0.3326.hdf5\n",
      "Epoch 19/25\n",
      "8000/8000 [==============================] - 66s 8ms/step - loss: 0.3231 - acc: 0.2769 - val_loss: 0.5181 - val_acc: 0.2794\n",
      "\n",
      "Epoch 00019: loss improved from 0.33255 to 0.32305, saving model to weights-improvement-19-0.3231.hdf5\n",
      "Epoch 20/25\n",
      "8000/8000 [==============================] - 63s 8ms/step - loss: 0.3137 - acc: 0.2788 - val_loss: 0.5196 - val_acc: 0.2776\n",
      "\n",
      "Epoch 00020: loss improved from 0.32305 to 0.31369, saving model to weights-improvement-20-0.3137.hdf5\n",
      "Epoch 21/25\n",
      "8000/8000 [==============================] - 62s 8ms/step - loss: 0.3050 - acc: 0.2811 - val_loss: 0.5201 - val_acc: 0.2814\n",
      "\n",
      "Epoch 00021: loss improved from 0.31369 to 0.30497, saving model to weights-improvement-21-0.3050.hdf5\n",
      "Epoch 22/25\n",
      "8000/8000 [==============================] - 63s 8ms/step - loss: 0.2964 - acc: 0.2850 - val_loss: 0.5169 - val_acc: 0.2806\n",
      "\n",
      "Epoch 00022: loss improved from 0.30497 to 0.29644, saving model to weights-improvement-22-0.2964.hdf5\n",
      "Epoch 23/25\n",
      "8000/8000 [==============================] - 68s 9ms/step - loss: 0.2882 - acc: 0.2872 - val_loss: 0.5113 - val_acc: 0.2843\n",
      "\n",
      "Epoch 00023: loss improved from 0.29644 to 0.28820, saving model to weights-improvement-23-0.2882.hdf5\n",
      "Epoch 24/25\n",
      "8000/8000 [==============================] - 67s 8ms/step - loss: 0.2803 - acc: 0.2891 - val_loss: 0.5196 - val_acc: 0.2848\n",
      "\n",
      "Epoch 00024: loss improved from 0.28820 to 0.28030, saving model to weights-improvement-24-0.2803.hdf5\n",
      "Epoch 25/25\n",
      "8000/8000 [==============================] - 69s 9ms/step - loss: 0.2724 - acc: 0.2917 - val_loss: 0.5135 - val_acc: 0.2846\n",
      "\n",
      "Epoch 00025: loss improved from 0.28030 to 0.27243, saving model to weights-improvement-25-0.2724.hdf5\n"
     ]
    }
   ],
   "source": [
    "# Run training\n",
    "\n",
    "history = model.fit([encoder_input_data, decoder_input_data], decoder_target_data,\n",
    "          batch_size=batch_size,\n",
    "          epochs=25,\n",
    "          callbacks=callbacks_list,\n",
    "          validation_split=0.2,\n",
    "          shuffle=True).history"
   ]
  },
  {
   "cell_type": "code",
   "execution_count": 15,
   "metadata": {},
   "outputs": [
    {
     "data": {
      "image/png": "[encoded data removed]",
      "text/plain": [
       "<matplotlib.figure.Figure at 0x1dabf1c7080>"
      ]
     },
     "metadata": {},
     "output_type": "display_data"
    },
    {
     "data": {
      "image/png": "[encoded data removed]",
      "text/plain": [
       "<matplotlib.figure.Figure at 0x1dabf256588>"
      ]
     },
     "metadata": {},
     "output_type": "display_data"
    }
   ],
   "source": [
    "# Draw plots for loss and accuracy for training as well as testing\n",
    "\n",
    "import matplotlib.pyplot as plt\n",
    "\n",
    "# summarize history for accuracy\n",
    "plt.plot(history['acc'])\n",
    "plt.plot(history['val_acc'])\n",
    "plt.title('model accuracy')\n",
    "plt.ylabel('accuracy')\n",
    "plt.xlabel('epoch')\n",
    "plt.legend(['train', 'test'], loc='upper left')\n",
    "plt.show()\n",
    "\n",
    "# summarize history for loss\n",
    "plt.plot(history['loss'])\n",
    "plt.plot(history['val_loss'])\n",
    "plt.title('model loss')\n",
    "plt.ylabel('loss')\n",
    "plt.xlabel('epoch')\n",
    "plt.legend(['train', 'test'], loc='upper left')\n",
    "plt.show()"
   ]
  },
  {
   "cell_type": "code",
   "execution_count": 16,
   "metadata": {},
   "outputs": [],
   "source": [
    "# load the network weights from the best saved check point checkpoint\n",
    "\n",
    "filename = \"weights-improvement-25-0.2724.hdf5\"\n",
    "model.load_weights(filename)\n",
    "model.compile(loss='categorical_crossentropy', optimizer='rmsprop', metrics=['accuracy'])"
   ]
  },
  {
   "cell_type": "code",
   "execution_count": 17,
   "metadata": {},
   "outputs": [],
   "source": [
    "# Define sampling models\n",
    "\n",
    "encoder_model = Model(encoder_inputs, encoder_states)\n",
    "\n",
    "decoder_state_input_h = Input(shape=(latent_dim,))\n",
    "decoder_state_input_c = Input(shape=(latent_dim,))\n",
    "decoder_states_inputs = [decoder_state_input_h, decoder_state_input_c]\n",
    "decoder_outputs, state_h, state_c = decoder_lstm(\n",
    "    decoder_inputs, initial_state=decoder_states_inputs)\n",
    "decoder_states = [state_h, state_c]\n",
    "decoder_outputs = decoder_dense(decoder_outputs)\n",
    "decoder_model = Model(\n",
    "    [decoder_inputs] + decoder_states_inputs,\n",
    "    [decoder_outputs] + decoder_states)\n"
   ]
  },
  {
   "cell_type": "code",
   "execution_count": 18,
   "metadata": {},
   "outputs": [],
   "source": [
    "# Reverse-lookup token index to decode sequences back to something readable\n",
    "\n",
    "reverse_input_char_index = dict(\n",
    "    (i, char) for char, i in input_token_index.items())\n",
    "reverse_target_char_index = dict(\n",
    "    (i, char) for char, i in target_token_index.items())"
   ]
  },
  {
   "cell_type": "markdown",
   "metadata": {},
   "source": [
    "# Inference"
   ]
  },
  {
   "cell_type": "code",
   "execution_count": 19,
   "metadata": {},
   "outputs": [],
   "source": [
    "# Define the inference process to actually translate\n",
    "\n",
    "def decode_sequence(input_seq):\n",
    "    # Encode the input as state vectors.\n",
    "    states_value = encoder_model.predict(input_seq)\n",
    "\n",
    "    # Generate empty target sequence of length 1.\n",
    "    target_seq = np.zeros((1, 1, num_decoder_tokens))\n",
    "    # Populate the first character of target sequence with the start character.\n",
    "    target_seq[0, 0, target_token_index['\\t']] = 1.\n",
    "\n",
    "    # Sampling loop for a batch of sequences\n",
    "    # (to simplify, here we assume a batch of size 1).\n",
    "    stop_condition = False\n",
    "    decoded_sentence = ''\n",
    "    while not stop_condition:\n",
    "        output_tokens, h, c = decoder_model.predict(\n",
    "            [target_seq] + states_value)\n",
    "\n",
    "        # Sample a token\n",
    "        sampled_token_index = np.argmax(output_tokens[0, -1, :])\n",
    "        sampled_char = reverse_target_char_index[sampled_token_index]\n",
    "        decoded_sentence += sampled_char\n",
    "\n",
    "        # Exit condition: either hit max length\n",
    "        # or find stop character.\n",
    "        if (sampled_char == '\\n' or\n",
    "           len(decoded_sentence) > max_decoder_seq_length):\n",
    "            stop_condition = True\n",
    "\n",
    "        # Update the target sequence (of length 1).\n",
    "        target_seq = np.zeros((1, 1, num_decoder_tokens))\n",
    "        target_seq[0, 0, sampled_token_index] = 1.\n",
    "\n",
    "        # Update states\n",
    "        states_value = [h, c]\n",
    "\n",
    "    return decoded_sentence"
   ]
  },
  {
   "cell_type": "markdown",
   "metadata": {},
   "source": [
    "# Speech input"
   ]
  },
  {
   "cell_type": "code",
   "execution_count": 41,
   "metadata": {},
   "outputs": [
    {
     "name": "stdout",
     "output_type": "stream",
     "text": [
      "Say something to translate.\n",
      "You said: I am dumb\n"
     ]
    }
   ],
   "source": [
    "#Speech Recognition\n",
    " \n",
    "import speech_recognition as sr\n",
    " \n",
    "#Sample rate is how often values are recorded\n",
    "sample_rate = 48000\n",
    "\n",
    "#Chunk is like a buffer. It stores 2048 samples (bytes of data)\n",
    "#it is advisable to use powers of 2 such as 1024 or 2048\n",
    "chunk_size = 2048\n",
    "\n",
    "#Initialize the recognizer\n",
    "r = sr.Recognizer()\n",
    " \n",
    "with sr.Microphone(sample_rate = sample_rate, chunk_size = chunk_size) as source:\n",
    "    #wait for a second to let the recognizer adjust the \n",
    "    #energy threshold based on the surrounding noise level\n",
    "    r.adjust_for_ambient_noise(source)\n",
    "    print(\"Say something to translate.\")\n",
    "    #listens for the user's input\n",
    "    audio = r.listen(source)\n",
    "         \n",
    "    try:\n",
    "        text = r.recognize_google(audio)\n",
    "        print(\"You said: \" + text)\n",
    "     \n",
    "    #error occurs when google could not understand what was said\n",
    "     \n",
    "    except sr.UnknownValueError:\n",
    "        print(\"Google Speech Recognition could not understand audio\")\n",
    "     \n",
    "    except sr.RequestError as e:\n",
    "        print(\"Could not request results from Google Speech Recognition service; {0}\".format(e))"
   ]
  },
  {
   "cell_type": "code",
   "execution_count": 42,
   "metadata": {},
   "outputs": [
    {
     "name": "stdout",
     "output_type": "stream",
     "text": [
      "Input sentence: I am dumb\n",
      "Decoded sentence: Ich bin sehr gewannt.\n",
      "\n"
     ]
    }
   ],
   "source": [
    "encoder_input_data_speech = np.zeros(\n",
    "    (1, max_encoder_seq_length, num_encoder_tokens),\n",
    "    dtype='float32')\n",
    "\n",
    "for t, char in enumerate(text):\n",
    "    encoder_input_data_speech[0, t, input_token_index[char]] = 1.\n",
    "    \n",
    "#speech translation\n",
    "decoded_sentence_speech = decode_sequence(encoder_input_data_speech)\n",
    "\n",
    "print('Input sentence:', text)\n",
    "print('Decoded sentence:', decoded_sentence_speech)"
   ]
  },
  {
   "cell_type": "markdown",
   "metadata": {},
   "source": [
    "# Keyboard Input"
   ]
  },
  {
   "cell_type": "code",
   "execution_count": 29,
   "metadata": {},
   "outputs": [
    {
     "name": "stdout",
     "output_type": "stream",
     "text": [
      "Enter a sentence to translate: Go away!\n"
     ]
    }
   ],
   "source": [
    "kb_input = input('Enter a sentence to translate: ')"
   ]
  },
  {
   "cell_type": "code",
   "execution_count": 31,
   "metadata": {},
   "outputs": [
    {
     "name": "stdout",
     "output_type": "stream",
     "text": [
      "Input sentence: Go away!\n",
      "Decoded sentence: Verschwinde!\n",
      "\n"
     ]
    }
   ],
   "source": [
    "encoder_input_data_kb = np.zeros(\n",
    "    (1, max_encoder_seq_length, num_encoder_tokens),\n",
    "    dtype='float32')\n",
    "\n",
    "for t, char in enumerate(kb_input):\n",
    "    encoder_input_data_kb[0, t, input_token_index[char]] = 1.\n",
    "    \n",
    "#input translation\n",
    "decoded_sentence_kb = decode_sequence(encoder_input_data_kb)\n",
    "\n",
    "print('Input sentence:', kb_input)\n",
    "print('Decoded sentence:', decoded_sentence_kb)"
   ]
  },
  {
   "cell_type": "markdown",
   "metadata": {},
   "source": [
    "# From the corpus"
   ]
  },
  {
   "cell_type": "code",
   "execution_count": 53,
   "metadata": {
    "scrolled": true
   },
   "outputs": [
    {
     "name": "stdout",
     "output_type": "stream",
     "text": [
      "Input sentence: Hi.\n",
      "Decoded sentence: Hallo, Tom!\n",
      "\n",
      "Input sentence: Hi.\n",
      "Decoded sentence: Hallo, Tom!\n",
      "\n",
      "Input sentence: Run!\n",
      "Decoded sentence: Hör auf zu schreien.\n",
      "\n",
      "Input sentence: Wow!\n",
      "Decoded sentence: ollen sich rein!\n",
      "\n",
      "Input sentence: Wow!\n",
      "Decoded sentence: ollen sich rein!\n",
      "\n",
      "Input sentence: Fire!\n",
      "Decoded sentence: Vergiss es mit!\n",
      "\n",
      "Input sentence: Help!\n",
      "Decoded sentence: Hallo, war!\n",
      "\n",
      "Input sentence: Help!\n",
      "Decoded sentence: Hallo, war!\n",
      "\n",
      "Input sentence: Stop!\n",
      "Decoded sentence: Mach dich vom Acker!\n",
      "\n",
      "Input sentence: Wait!\n",
      "Decoded sentence: Warten Sie!\n",
      "\n"
     ]
    }
   ],
   "source": [
    "for seq_index in range(5):\n",
    "    # Take one sequence (part of the training set)\n",
    "    # for trying out decoding.\n",
    "    input_seq = encoder_input_data[seq_index: seq_index + 1]\n",
    "    decoded_sentence = decode_sequence(input_seq)\n",
    "    \n",
    "    print('Input sentence:', input_texts[seq_index])\n",
    "    print('Decoded sentence:', decoded_sentence)"
   ]
  }
 ],
 "metadata": {
  "kernelspec": {
   "display_name": "Python 3",
   "language": "python",
   "name": "python3"
  },
  "language_info": {
   "codemirror_mode": {
    "name": "ipython",
    "version": 3
   },
   "file_extension": ".py",
   "mimetype": "text/x-python",
   "name": "python",
   "nbconvert_exporter": "python",
   "pygments_lexer": "ipython3",
   "version": "3.6.4"
  }
 },
 "nbformat": 4,
 "nbformat_minor": 2
}
